{
 "cells": [
  {
   "cell_type": "markdown",
   "metadata": {},
   "source": [
    "# Visualization: Trading Session"
   ]
  },
  {
   "cell_type": "code",
   "execution_count": 48,
   "metadata": {
    "ExecuteTime": {
     "end_time": "2024-04-12T10:02:57.126107Z",
     "start_time": "2024-04-12T10:02:57.121122Z"
    }
   },
   "outputs": [],
   "source": [
    "import pandas as pd\n",
    "import numpy as np\n",
    "\n",
    "import altair as alt\n",
    "import seaborn as sns"
   ]
  },
  {
   "cell_type": "markdown",
   "metadata": {},
   "source": [
    "### 1. Define parameters and Load model"
   ]
  },
  {
   "cell_type": "code",
   "outputs": [],
   "source": [
    "from trading_bot.agent import Agent\n",
    "\n",
    "model_name = 'FPT_tdqn_1'\n",
    "test_stock = 'data/FPT20232024.csv'\n",
    "window_size = 10\n",
    "debug = True\n",
    "\n",
    "agent = Agent(window_size + 1, pretrained=True, model_name=model_name)"
   ],
   "metadata": {
    "ExecuteTime": {
     "end_time": "2024-04-12T10:03:04.664904Z",
     "start_time": "2024-04-12T10:02:58.987952Z"
    }
   },
   "execution_count": 49
  },
  {
   "cell_type": "markdown",
   "metadata": {},
   "source": [
    "### 2. Load test data"
   ]
  },
  {
   "cell_type": "code",
   "execution_count": 51,
   "metadata": {
    "ExecuteTime": {
     "end_time": "2024-04-12T10:03:15.064752Z",
     "start_time": "2024-04-12T10:03:15.014909Z"
    }
   },
   "outputs": [
    {
     "data": {
      "text/plain": "        date  actual\n0 2023-01-03   80000\n1 2023-01-04   80000\n2 2023-01-05   80600\n3 2023-01-06   80300\n4 2023-01-09   80300",
      "text/html": "<div>\n<style scoped>\n    .dataframe tbody tr th:only-of-type {\n        vertical-align: middle;\n    }\n\n    .dataframe tbody tr th {\n        vertical-align: top;\n    }\n\n    .dataframe thead th {\n        text-align: right;\n    }\n</style>\n<table border=\"1\" class=\"dataframe\">\n  <thead>\n    <tr style=\"text-align: right;\">\n      <th></th>\n      <th>date</th>\n      <th>actual</th>\n    </tr>\n  </thead>\n  <tbody>\n    <tr>\n      <th>0</th>\n      <td>2023-01-03</td>\n      <td>80000</td>\n    </tr>\n    <tr>\n      <th>1</th>\n      <td>2023-01-04</td>\n      <td>80000</td>\n    </tr>\n    <tr>\n      <th>2</th>\n      <td>2023-01-05</td>\n      <td>80600</td>\n    </tr>\n    <tr>\n      <th>3</th>\n      <td>2023-01-06</td>\n      <td>80300</td>\n    </tr>\n    <tr>\n      <th>4</th>\n      <td>2023-01-09</td>\n      <td>80300</td>\n    </tr>\n  </tbody>\n</table>\n</div>"
     },
     "execution_count": 51,
     "metadata": {},
     "output_type": "execute_result"
    }
   ],
   "source": [
    "# read csv into dataframe\n",
    "df = pd.read_csv(test_stock)\n",
    "# filter out the desired features\n",
    "df = df[['Date', 'Price']]\n",
    "# rename feature column names\n",
    "df = df.rename(columns={'Price': 'actual', 'Date': 'date'})\n",
    "# convert dates from object to DateTime type\n",
    "dates = df['date']\n",
    "dates = pd.to_datetime(dates, infer_datetime_format=True)\n",
    "df['date'] = dates\n",
    "\n",
    "df.head()"
   ]
  },
  {
   "cell_type": "markdown",
   "metadata": {},
   "source": [
    "### 3. Running Eval"
   ]
  },
  {
   "cell_type": "code",
   "execution_count": 52,
   "metadata": {
    "ExecuteTime": {
     "end_time": "2024-04-12T10:03:24.692192Z",
     "start_time": "2024-04-12T10:03:17.188749Z"
    }
   },
   "outputs": [
    {
     "name": "stderr",
     "output_type": "stream",
     "text": [
      "2024-04-12 17:03:17 DESKTOP-RSIH8GO root[2792] DEBUG switching to TensorFlow for CPU\n",
      "2024-04-12 17:03:17 DESKTOP-RSIH8GO root[2792] DEBUG Buy 900 shares at: 80000.00VND\n",
      "2024-04-12 17:03:18 DESKTOP-RSIH8GO root[2792] DEBUG Sell 900 shares at: 80000.00VND | Position: +0.00VND\n",
      "2024-04-12 17:03:18 DESKTOP-RSIH8GO root[2792] DEBUG Buy 900 shares at: 80300.00VND\n",
      "2024-04-12 17:03:18 DESKTOP-RSIH8GO root[2792] DEBUG Sell 900 shares at: 80300.00VND | Position: +0.00VND\n",
      "2024-04-12 17:03:18 DESKTOP-RSIH8GO root[2792] DEBUG Buy 300 shares at: 80700.00VND\n",
      "2024-04-12 17:03:18 DESKTOP-RSIH8GO root[2792] DEBUG Sell 300 shares at: 80000.00VND | Position: -210000.00VND\n",
      "2024-04-12 17:03:18 DESKTOP-RSIH8GO root[2792] DEBUG Buy 300 shares at: 82000.00VND\n",
      "2024-04-12 17:03:18 DESKTOP-RSIH8GO root[2792] DEBUG Buy 300 shares at: 81900.00VND\n",
      "2024-04-12 17:03:18 DESKTOP-RSIH8GO root[2792] DEBUG Buy 300 shares at: 80100.00VND\n",
      "2024-04-12 17:03:18 DESKTOP-RSIH8GO root[2792] DEBUG Sell 900 shares at: 80700.00VND | Position: -570000.00VND\n",
      "2024-04-12 17:03:18 DESKTOP-RSIH8GO root[2792] DEBUG Buy 900 shares at: 81400.00VND\n",
      "2024-04-12 17:03:19 DESKTOP-RSIH8GO root[2792] DEBUG Buy 300 shares at: 80300.00VND\n",
      "2024-04-12 17:03:19 DESKTOP-RSIH8GO root[2792] DEBUG Sell 1200 shares at: 80500.00VND | Position: -750000.00VND\n",
      "2024-04-12 17:03:19 DESKTOP-RSIH8GO root[2792] DEBUG Buy 300 shares at: 78500.00VND\n",
      "2024-04-12 17:03:19 DESKTOP-RSIH8GO root[2792] DEBUG Buy 300 shares at: 78200.00VND\n",
      "2024-04-12 17:03:19 DESKTOP-RSIH8GO root[2792] DEBUG Sell 600 shares at: 78800.00VND | Position: +270000.00VND\n",
      "2024-04-12 17:03:19 DESKTOP-RSIH8GO root[2792] DEBUG Buy 900 shares at: 79200.00VND\n",
      "2024-04-12 17:03:19 DESKTOP-RSIH8GO root[2792] DEBUG Sell 900 shares at: 78500.00VND | Position: -630000.00VND\n",
      "2024-04-12 17:03:19 DESKTOP-RSIH8GO root[2792] DEBUG Buy 300 shares at: 79000.00VND\n",
      "2024-04-12 17:03:19 DESKTOP-RSIH8GO root[2792] DEBUG Sell 300 shares at: 79100.00VND | Position: +30000.00VND\n",
      "2024-04-12 17:03:19 DESKTOP-RSIH8GO root[2792] DEBUG Buy 600 shares at: 80300.00VND\n",
      "2024-04-12 17:03:19 DESKTOP-RSIH8GO root[2792] DEBUG Sell 600 shares at: 80500.00VND | Position: +120000.00VND\n",
      "2024-04-12 17:03:19 DESKTOP-RSIH8GO root[2792] DEBUG Buy 900 shares at: 80300.00VND\n",
      "2024-04-12 17:03:19 DESKTOP-RSIH8GO root[2792] DEBUG Sell 900 shares at: 80300.00VND | Position: +0.00VND\n",
      "2024-04-12 17:03:19 DESKTOP-RSIH8GO root[2792] DEBUG Buy 900 shares at: 79600.00VND\n",
      "2024-04-12 17:03:19 DESKTOP-RSIH8GO root[2792] DEBUG Sell 900 shares at: 79600.00VND | Position: +0.00VND\n",
      "2024-04-12 17:03:19 DESKTOP-RSIH8GO root[2792] DEBUG Buy 900 shares at: 79300.00VND\n",
      "2024-04-12 17:03:19 DESKTOP-RSIH8GO root[2792] DEBUG Buy 300 shares at: 78300.00VND\n",
      "2024-04-12 17:03:20 DESKTOP-RSIH8GO root[2792] DEBUG Sell 1200 shares at: 78500.00VND | Position: -660000.00VND\n",
      "2024-04-12 17:03:20 DESKTOP-RSIH8GO root[2792] DEBUG Buy 900 shares at: 78400.00VND\n",
      "2024-04-12 17:03:20 DESKTOP-RSIH8GO root[2792] DEBUG Sell 900 shares at: 78900.00VND | Position: +450000.00VND\n",
      "2024-04-12 17:03:20 DESKTOP-RSIH8GO root[2792] DEBUG Buy 900 shares at: 82800.00VND\n",
      "2024-04-12 17:03:20 DESKTOP-RSIH8GO root[2792] DEBUG Sell 900 shares at: 84000.00VND | Position: +1080000.00VND\n",
      "2024-04-12 17:03:20 DESKTOP-RSIH8GO root[2792] DEBUG Buy 300 shares at: 85000.00VND\n",
      "2024-04-12 17:03:20 DESKTOP-RSIH8GO root[2792] DEBUG Sell 300 shares at: 84600.00VND | Position: -120000.00VND\n",
      "2024-04-12 17:03:20 DESKTOP-RSIH8GO root[2792] DEBUG Buy 300 shares at: 84400.00VND\n",
      "2024-04-12 17:03:20 DESKTOP-RSIH8GO root[2792] DEBUG Buy 300 shares at: 84200.00VND\n",
      "2024-04-12 17:03:20 DESKTOP-RSIH8GO root[2792] DEBUG Buy 300 shares at: 84100.00VND\n",
      "2024-04-12 17:03:20 DESKTOP-RSIH8GO root[2792] DEBUG Sell 900 shares at: 84700.00VND | Position: +420000.00VND\n",
      "2024-04-12 17:03:20 DESKTOP-RSIH8GO root[2792] DEBUG Buy 900 shares at: 85500.00VND\n",
      "2024-04-12 17:03:20 DESKTOP-RSIH8GO root[2792] DEBUG Sell 900 shares at: 85100.00VND | Position: -360000.00VND\n",
      "2024-04-12 17:03:20 DESKTOP-RSIH8GO root[2792] DEBUG Buy 300 shares at: 87000.00VND\n",
      "2024-04-12 17:03:20 DESKTOP-RSIH8GO root[2792] DEBUG Buy 300 shares at: 86500.00VND\n",
      "2024-04-12 17:03:20 DESKTOP-RSIH8GO root[2792] DEBUG Buy 300 shares at: 86000.00VND\n",
      "2024-04-12 17:03:20 DESKTOP-RSIH8GO root[2792] DEBUG Sell 900 shares at: 87000.00VND | Position: +450000.00VND\n",
      "2024-04-12 17:03:21 DESKTOP-RSIH8GO root[2792] DEBUG Buy 900 shares at: 78700.00VND\n",
      "2024-04-12 17:03:21 DESKTOP-RSIH8GO root[2792] DEBUG Sell 900 shares at: 78500.00VND | Position: -180000.00VND\n",
      "2024-04-12 17:03:21 DESKTOP-RSIH8GO root[2792] DEBUG Buy 900 shares at: 83300.00VND\n",
      "2024-04-12 17:03:21 DESKTOP-RSIH8GO root[2792] DEBUG Sell 900 shares at: 84500.00VND | Position: +1080000.00VND\n",
      "2024-04-12 17:03:21 DESKTOP-RSIH8GO root[2792] DEBUG Buy 900 shares at: 84200.00VND\n",
      "2024-04-12 17:03:21 DESKTOP-RSIH8GO root[2792] DEBUG Buy 300 shares at: 82000.00VND\n",
      "2024-04-12 17:03:21 DESKTOP-RSIH8GO root[2792] DEBUG Sell 1200 shares at: 82600.00VND | Position: -1260000.00VND\n",
      "2024-04-12 17:03:21 DESKTOP-RSIH8GO root[2792] DEBUG Buy 900 shares at: 85500.00VND\n",
      "2024-04-12 17:03:21 DESKTOP-RSIH8GO root[2792] DEBUG Sell 900 shares at: 85900.00VND | Position: +360000.00VND\n",
      "2024-04-12 17:03:21 DESKTOP-RSIH8GO root[2792] DEBUG Buy 300 shares at: 97400.00VND\n",
      "2024-04-12 17:03:21 DESKTOP-RSIH8GO root[2792] DEBUG Sell 300 shares at: 98900.00VND | Position: +450000.00VND\n",
      "2024-04-12 17:03:21 DESKTOP-RSIH8GO root[2792] DEBUG Buy 900 shares at: 98000.00VND\n",
      "2024-04-12 17:03:21 DESKTOP-RSIH8GO root[2792] DEBUG Sell 900 shares at: 97500.00VND | Position: -450000.00VND\n",
      "2024-04-12 17:03:21 DESKTOP-RSIH8GO root[2792] DEBUG Buy 600 shares at: 94300.00VND\n",
      "2024-04-12 17:03:21 DESKTOP-RSIH8GO root[2792] DEBUG Buy 300 shares at: 93500.00VND\n",
      "2024-04-12 17:03:22 DESKTOP-RSIH8GO root[2792] DEBUG Sell 900 shares at: 94300.00VND | Position: +240000.00VND\n",
      "2024-04-12 17:03:22 DESKTOP-RSIH8GO root[2792] DEBUG Buy 900 shares at: 94000.00VND\n",
      "2024-04-12 17:03:22 DESKTOP-RSIH8GO root[2792] DEBUG Sell 900 shares at: 93200.00VND | Position: -720000.00VND\n",
      "2024-04-12 17:03:22 DESKTOP-RSIH8GO root[2792] DEBUG Buy 900 shares at: 92200.00VND\n",
      "2024-04-12 17:03:22 DESKTOP-RSIH8GO root[2792] DEBUG Sell 900 shares at: 92500.00VND | Position: +270000.00VND\n",
      "2024-04-12 17:03:22 DESKTOP-RSIH8GO root[2792] DEBUG Buy 600 shares at: 91600.00VND\n",
      "2024-04-12 17:03:22 DESKTOP-RSIH8GO root[2792] DEBUG Sell 600 shares at: 95600.00VND | Position: +2400000.00VND\n",
      "2024-04-12 17:03:22 DESKTOP-RSIH8GO root[2792] DEBUG Buy 900 shares at: 93100.00VND\n",
      "2024-04-12 17:03:22 DESKTOP-RSIH8GO root[2792] DEBUG Sell 900 shares at: 92000.00VND | Position: -990000.00VND\n",
      "2024-04-12 17:03:22 DESKTOP-RSIH8GO root[2792] DEBUG Buy 900 shares at: 90900.00VND\n",
      "2024-04-12 17:03:22 DESKTOP-RSIH8GO root[2792] DEBUG Sell 900 shares at: 87000.00VND | Position: -3510000.00VND\n",
      "2024-04-12 17:03:22 DESKTOP-RSIH8GO root[2792] DEBUG Buy 900 shares at: 85000.00VND\n",
      "2024-04-12 17:03:22 DESKTOP-RSIH8GO root[2792] DEBUG Sell 900 shares at: 85400.00VND | Position: +360000.00VND\n",
      "2024-04-12 17:03:22 DESKTOP-RSIH8GO root[2792] DEBUG Buy 300 shares at: 87000.00VND\n",
      "2024-04-12 17:03:22 DESKTOP-RSIH8GO root[2792] DEBUG Sell 300 shares at: 88500.00VND | Position: +450000.00VND\n",
      "2024-04-12 17:03:22 DESKTOP-RSIH8GO root[2792] DEBUG Buy 600 shares at: 88300.00VND\n",
      "2024-04-12 17:03:22 DESKTOP-RSIH8GO root[2792] DEBUG Sell 600 shares at: 92600.00VND | Position: +2580000.00VND\n",
      "2024-04-12 17:03:23 DESKTOP-RSIH8GO root[2792] DEBUG Buy 600 shares at: 91500.00VND\n",
      "2024-04-12 17:03:23 DESKTOP-RSIH8GO root[2792] DEBUG Sell 600 shares at: 93000.00VND | Position: +900000.00VND\n",
      "2024-04-12 17:03:23 DESKTOP-RSIH8GO root[2792] DEBUG Buy 900 shares at: 91000.00VND\n",
      "2024-04-12 17:03:23 DESKTOP-RSIH8GO root[2792] DEBUG Sell 900 shares at: 91900.00VND | Position: +810000.00VND\n",
      "2024-04-12 17:03:23 DESKTOP-RSIH8GO root[2792] DEBUG Buy 300 shares at: 90800.00VND\n",
      "2024-04-12 17:03:23 DESKTOP-RSIH8GO root[2792] DEBUG Sell 300 shares at: 91200.00VND | Position: +120000.00VND\n",
      "2024-04-12 17:03:23 DESKTOP-RSIH8GO root[2792] DEBUG Buy 900 shares at: 90700.00VND\n",
      "2024-04-12 17:03:23 DESKTOP-RSIH8GO root[2792] DEBUG Sell 900 shares at: 91100.00VND | Position: +360000.00VND\n",
      "2024-04-12 17:03:23 DESKTOP-RSIH8GO root[2792] DEBUG Buy 300 shares at: 92400.00VND\n",
      "2024-04-12 17:03:23 DESKTOP-RSIH8GO root[2792] DEBUG Sell 300 shares at: 93600.00VND | Position: +360000.00VND\n",
      "2024-04-12 17:03:23 DESKTOP-RSIH8GO root[2792] DEBUG Buy 300 shares at: 95200.00VND\n",
      "2024-04-12 17:03:23 DESKTOP-RSIH8GO root[2792] DEBUG Sell 300 shares at: 96200.00VND | Position: +300000.00VND\n",
      "2024-04-12 17:03:23 DESKTOP-RSIH8GO root[2792] DEBUG Buy 600 shares at: 96100.00VND\n",
      "2024-04-12 17:03:23 DESKTOP-RSIH8GO root[2792] DEBUG Buy 300 shares at: 95900.00VND\n",
      "2024-04-12 17:03:23 DESKTOP-RSIH8GO root[2792] DEBUG Sell 900 shares at: 96300.00VND | Position: +240000.00VND\n",
      "2024-04-12 17:03:23 DESKTOP-RSIH8GO root[2792] DEBUG Buy 900 shares at: 94700.00VND\n",
      "2024-04-12 17:03:23 DESKTOP-RSIH8GO root[2792] DEBUG Sell 900 shares at: 95400.00VND | Position: +630000.00VND\n",
      "2024-04-12 17:03:23 DESKTOP-RSIH8GO root[2792] DEBUG Buy 300 shares at: 95900.00VND\n",
      "2024-04-12 17:03:24 DESKTOP-RSIH8GO root[2792] DEBUG Buy 300 shares at: 95600.00VND\n",
      "2024-04-12 17:03:24 DESKTOP-RSIH8GO root[2792] DEBUG Sell 600 shares at: 95700.00VND | Position: -30000.00VND\n",
      "2024-04-12 17:03:24 DESKTOP-RSIH8GO root[2792] DEBUG Buy 900 shares at: 105000.00VND\n",
      "2024-04-12 17:03:24 DESKTOP-RSIH8GO root[2792] DEBUG Sell 900 shares at: 105900.00VND | Position: +810000.00VND\n",
      "2024-04-12 17:03:24 DESKTOP-RSIH8GO root[2792] DEBUG Buy 900 shares at: 104600.00VND\n",
      "2024-04-12 17:03:24 DESKTOP-RSIH8GO root[2792] DEBUG Sell 900 shares at: 108000.00VND | Position: +3060000.00VND\n",
      "2024-04-12 17:03:24 DESKTOP-RSIH8GO root[2792] DEBUG Buy 900 shares at: 110000.00VND\n",
      "2024-04-12 17:03:24 DESKTOP-RSIH8GO root[2792] DEBUG Sell 900 shares at: 110000.00VND | Position: +0.00VND\n",
      "2024-04-12 17:03:24 DESKTOP-RSIH8GO root[2792] DEBUG Buy 300 shares at: 117000.00VND\n",
      "2024-04-12 17:03:24 DESKTOP-RSIH8GO root[2792] INFO FPT_tdqn_1: +8160000.00VND\n",
      "\n"
     ]
    }
   ],
   "source": [
    "import logging\n",
    "import coloredlogs\n",
    "\n",
    "from trading_bot.utils import show_eval_result, switch_k_backend_device, get_stock_data\n",
    "from trading_bot.methods import evaluate_model\n",
    "\n",
    "# Set logging level to DEBUG\n",
    "logging.basicConfig(level=logging.DEBUG)\n",
    "\n",
    "coloredlogs.install(level='DEBUG')\n",
    "switch_k_backend_device()\n",
    "\n",
    "test_data = get_stock_data(test_stock)\n",
    "test_result, history = evaluate_model(agent, test_data, window_size, debug)\n",
    "show_eval_result(model_name, test_result)\n"
   ]
  },
  {
   "cell_type": "markdown",
   "metadata": {},
   "source": [
    "### 4. Visualize"
   ]
  },
  {
   "cell_type": "code",
   "execution_count": 53,
   "metadata": {
    "ExecuteTime": {
     "end_time": "2024-04-12T10:03:27.451393Z",
     "start_time": "2024-04-12T10:03:27.422163Z"
    }
   },
   "outputs": [],
   "source": [
    "def visualize(df, history, title=\"trading session\"):\n",
    "    # add history to dataframe\n",
    "    position = [history[0][0]] + [x[0] for x in history]\n",
    "    actions = ['HOLD'] + [x[1] for x in history]\n",
    "    df['position'] = position\n",
    "    df['action'] = actions\n",
    "    \n",
    "    # specify y-axis scale for stock prices\n",
    "    scale = alt.Scale(domain=(min(min(df['actual']), min(df['position'])) - 50, max(max(df['actual']), max(df['position'])) + 50), clamp=True)\n",
    "    \n",
    "    # plot a line chart for stock positions\n",
    "    actual = alt.Chart(df).mark_line(\n",
    "        color='green',\n",
    "        opacity=0.5\n",
    "    ).encode(\n",
    "        x='date:T',\n",
    "        y=alt.Y('position', axis=alt.Axis(format='.2f', title='Price (VND)'), scale=scale)\n",
    "    ).interactive(\n",
    "        bind_y=False\n",
    "    )\n",
    "    \n",
    "    # plot the BUY and SELL actions as points\n",
    "    points = alt.Chart(df).transform_filter(\n",
    "        alt.datum.action != 'HOLD'\n",
    "    ).mark_point(\n",
    "        filled=True\n",
    "    ).encode(\n",
    "        x=alt.X('date:T', axis=alt.Axis(title='Date')),\n",
    "        y=alt.Y('position', axis=alt.Axis(format='.2', title='Price (VND)'), scale=scale),\n",
    "        color='action'\n",
    "    ).interactive(bind_y=False)\n",
    "\n",
    "    # merge the two charts\n",
    "    chart = alt.layer(actual, points, title=title).properties(height=300, width=1000)\n",
    "    \n",
    "    return chart"
   ]
  },
  {
   "cell_type": "code",
   "outputs": [
    {
     "data": {
      "text/html": "\n<div id=\"altair-viz-10\"></div>\n<script type=\"text/javascript\">\n  (function(spec, embedOpt){\n    const outputDiv = document.getElementById(\"altair-viz-10\");\n    const paths = {\n      \"vega\": \"https://cdn.jsdelivr.net/npm//vega@5?noext\",\n      \"vega-lib\": \"https://cdn.jsdelivr.net/npm//vega-lib?noext\",\n      \"vega-lite\": \"https://cdn.jsdelivr.net/npm//vega-lite@4.0.0?noext\",\n      \"vega-embed\": \"https://cdn.jsdelivr.net/npm//vega-embed@6?noext\",\n    };\n\n    function loadScript(lib) {\n      return new Promise(function(resolve, reject) {\n        var s = document.createElement('script');\n        s.src = paths[lib];\n        s.async = true;\n        s.onload = () => resolve(paths[lib]);\n        s.onerror = () => reject(`Error loading script: ${paths[lib]}`);\n        document.getElementsByTagName(\"head\")[0].appendChild(s);\n      });\n    }\n\n    function showError(err) {\n      outputDiv.innerHTML = `<div class=\"error\" style=\"color:red;\">${err}</div>`;\n      throw err;\n    }\n\n    function displayChart(vegaEmbed) {\n      vegaEmbed(outputDiv, spec, embedOpt)\n        .catch(err => showError(`Javascript Error: ${err.message}<br>This usually means there's a typo in your chart specification. See the javascript console for the full traceback.`));\n    }\n\n    if(typeof define === \"function\" && define.amd) {\n      requirejs.config({paths});\n      require([\"vega-embed\"], displayChart, err => showError(`Error loading script: ${err.message}`));\n    } else if (typeof vegaEmbed === \"function\") {\n      displayChart(vegaEmbed);\n    } else {\n      loadScript(\"vega\")\n        .then(() => loadScript(\"vega-lite\"))\n        .then(() => loadScript(\"vega-embed\"))\n        .catch(showError)\n        .then(() => displayChart(vegaEmbed));\n    }\n  })({\"config\": {\"view\": {\"continuousWidth\": 400, \"continuousHeight\": 300}}, \"layer\": [{\"mark\": {\"type\": \"line\", \"color\": \"green\", \"opacity\": 0.5}, \"encoding\": {\"x\": {\"type\": \"temporal\", \"field\": \"date\"}, \"y\": {\"type\": \"quantitative\", \"axis\": {\"format\": \".2f\", \"title\": \"Price (VND)\"}, \"field\": \"position\", \"scale\": {\"clamp\": true, \"domain\": [74550, 117050]}}}, \"selection\": {\"selector023\": {\"type\": \"interval\", \"bind\": \"scales\", \"encodings\": [\"x\"]}}}, {\"mark\": {\"type\": \"point\", \"filled\": true}, \"encoding\": {\"color\": {\"type\": \"nominal\", \"field\": \"action\"}, \"x\": {\"type\": \"temporal\", \"axis\": {\"title\": \"Date\"}, \"field\": \"date\"}, \"y\": {\"type\": \"quantitative\", \"axis\": {\"format\": \".2\", \"title\": \"Price (VND)\"}, \"field\": \"position\", \"scale\": {\"clamp\": true, \"domain\": [74550, 117050]}}}, \"selection\": {\"selector024\": {\"type\": \"interval\", \"bind\": \"scales\", \"encodings\": [\"x\"]}}, \"transform\": [{\"filter\": \"(datum.action !== 'HOLD')\"}]}], \"data\": {\"name\": \"data-a9b54f34e56214a18b854dc12662e770\"}, \"height\": 300, \"title\": \"data/FPT20232024.csv\", \"width\": 1000, \"$schema\": \"https://vega.github.io/schema/vega-lite/v4.0.0.json\", \"datasets\": {\"data-a9b54f34e56214a18b854dc12662e770\": [{\"date\": \"2023-01-03T00:00:00\", \"actual\": 80000, \"position\": 80000, \"action\": \"HOLD\"}, {\"date\": \"2023-01-04T00:00:00\", \"actual\": 80000, \"position\": 80000, \"action\": \"Buy\"}, {\"date\": \"2023-01-05T00:00:00\", \"actual\": 80600, \"position\": 80000, \"action\": \"SELL\"}, {\"date\": \"2023-01-06T00:00:00\", \"actual\": 80300, \"position\": 80600, \"action\": \"HOLD\"}, {\"date\": \"2023-01-09T00:00:00\", \"actual\": 80300, \"position\": 80300, \"action\": \"Buy\"}, {\"date\": \"2023-01-10T00:00:00\", \"actual\": 80400, \"position\": 80300, \"action\": \"SELL\"}, {\"date\": \"2023-01-11T00:00:00\", \"actual\": 80900, \"position\": 80400, \"action\": \"HOLD\"}, {\"date\": \"2023-01-12T00:00:00\", \"actual\": 80700, \"position\": 80900, \"action\": \"HOLD\"}, {\"date\": \"2023-01-13T00:00:00\", \"actual\": 80000, \"position\": 80700, \"action\": \"Buy\"}, {\"date\": \"2023-01-16T00:00:00\", \"actual\": 80800, \"position\": 80000, \"action\": \"SELL\"}, {\"date\": \"2023-01-17T00:00:00\", \"actual\": 82000, \"position\": 80800, \"action\": \"HOLD\"}, {\"date\": \"2023-01-18T00:00:00\", \"actual\": 83400, \"position\": 82000, \"action\": \"HOLD\"}, {\"date\": \"2023-01-19T00:00:00\", \"actual\": 83900, \"position\": 83400, \"action\": \"HOLD\"}, {\"date\": \"2023-01-27T00:00:00\", \"actual\": 84000, \"position\": 83900, \"action\": \"HOLD\"}, {\"date\": \"2023-01-30T00:00:00\", \"actual\": 83700, \"position\": 84000, \"action\": \"HOLD\"}, {\"date\": \"2023-01-31T00:00:00\", \"actual\": 83500, \"position\": 83700, \"action\": \"HOLD\"}, {\"date\": \"2023-02-01T00:00:00\", \"actual\": 82000, \"position\": 83500, \"action\": \"HOLD\"}, {\"date\": \"2023-02-02T00:00:00\", \"actual\": 81900, \"position\": 82000, \"action\": \"Buy\"}, {\"date\": \"2023-02-03T00:00:00\", \"actual\": 80100, \"position\": 81900, \"action\": \"Buy\"}, {\"date\": \"2023-02-06T00:00:00\", \"actual\": 80500, \"position\": 80100, \"action\": \"Buy\"}, {\"date\": \"2023-02-07T00:00:00\", \"actual\": 80700, \"position\": 80500, \"action\": \"HOLD\"}, {\"date\": \"2023-02-08T00:00:00\", \"actual\": 81200, \"position\": 80700, \"action\": \"SELL\"}, {\"date\": \"2023-02-09T00:00:00\", \"actual\": 80700, \"position\": 81200, \"action\": \"HOLD\"}, {\"date\": \"2023-02-10T00:00:00\", \"actual\": 80700, \"position\": 80700, \"action\": \"HOLD\"}, {\"date\": \"2023-02-13T00:00:00\", \"actual\": 80700, \"position\": 80700, \"action\": \"HOLD\"}, {\"date\": \"2023-02-14T00:00:00\", \"actual\": 80800, \"position\": 80700, \"action\": \"HOLD\"}, {\"date\": \"2023-02-15T00:00:00\", \"actual\": 81600, \"position\": 80800, \"action\": \"HOLD\"}, {\"date\": \"2023-02-16T00:00:00\", \"actual\": 81600, \"position\": 81600, \"action\": \"HOLD\"}, {\"date\": \"2023-02-17T00:00:00\", \"actual\": 81600, \"position\": 81600, \"action\": \"HOLD\"}, {\"date\": \"2023-02-20T00:00:00\", \"actual\": 82800, \"position\": 81600, \"action\": \"HOLD\"}, {\"date\": \"2023-02-21T00:00:00\", \"actual\": 82800, \"position\": 82800, \"action\": \"HOLD\"}, {\"date\": \"2023-02-22T00:00:00\", \"actual\": 81800, \"position\": 82800, \"action\": \"HOLD\"}, {\"date\": \"2023-02-23T00:00:00\", \"actual\": 81400, \"position\": 81800, \"action\": \"HOLD\"}, {\"date\": \"2023-02-24T00:00:00\", \"actual\": 80800, \"position\": 81400, \"action\": \"Buy\"}, {\"date\": \"2023-02-27T00:00:00\", \"actual\": 80300, \"position\": 80800, \"action\": \"HOLD\"}, {\"date\": \"2023-02-28T00:00:00\", \"actual\": 80500, \"position\": 80300, \"action\": \"Buy\"}, {\"date\": \"2023-03-01T00:00:00\", \"actual\": 80500, \"position\": 80500, \"action\": \"HOLD\"}, {\"date\": \"2023-03-02T00:00:00\", \"actual\": 80000, \"position\": 80500, \"action\": \"SELL\"}, {\"date\": \"2023-03-03T00:00:00\", \"actual\": 78500, \"position\": 80000, \"action\": \"HOLD\"}, {\"date\": \"2023-03-06T00:00:00\", \"actual\": 78200, \"position\": 78500, \"action\": \"Buy\"}, {\"date\": \"2023-03-07T00:00:00\", \"actual\": 78800, \"position\": 78200, \"action\": \"Buy\"}, {\"date\": \"2023-03-08T00:00:00\", \"actual\": 79500, \"position\": 78800, \"action\": \"SELL\"}, {\"date\": \"2023-03-09T00:00:00\", \"actual\": 80600, \"position\": 79500, \"action\": \"HOLD\"}, {\"date\": \"2023-03-10T00:00:00\", \"actual\": 79500, \"position\": 80600, \"action\": \"HOLD\"}, {\"date\": \"2023-03-13T00:00:00\", \"actual\": 78900, \"position\": 79500, \"action\": \"HOLD\"}, {\"date\": \"2023-03-14T00:00:00\", \"actual\": 78700, \"position\": 78900, \"action\": \"HOLD\"}, {\"date\": \"2023-03-15T00:00:00\", \"actual\": 80500, \"position\": 78700, \"action\": \"HOLD\"}, {\"date\": \"2023-03-16T00:00:00\", \"actual\": 79200, \"position\": 80500, \"action\": \"HOLD\"}, {\"date\": \"2023-03-17T00:00:00\", \"actual\": 79000, \"position\": 79200, \"action\": \"Buy\"}, {\"date\": \"2023-03-20T00:00:00\", \"actual\": 77600, \"position\": 79000, \"action\": \"HOLD\"}, {\"date\": \"2023-03-21T00:00:00\", \"actual\": 78100, \"position\": 77600, \"action\": \"HOLD\"}, {\"date\": \"2023-03-22T00:00:00\", \"actual\": 78500, \"position\": 78100, \"action\": \"HOLD\"}, {\"date\": \"2023-03-23T00:00:00\", \"actual\": 78000, \"position\": 78500, \"action\": \"SELL\"}, {\"date\": \"2023-03-24T00:00:00\", \"actual\": 78600, \"position\": 78000, \"action\": \"HOLD\"}, {\"date\": \"2023-03-27T00:00:00\", \"actual\": 79100, \"position\": 78600, \"action\": \"HOLD\"}, {\"date\": \"2023-03-28T00:00:00\", \"actual\": 79200, \"position\": 79100, \"action\": \"HOLD\"}, {\"date\": \"2023-03-29T00:00:00\", \"actual\": 79000, \"position\": 79200, \"action\": \"HOLD\"}, {\"date\": \"2023-03-30T00:00:00\", \"actual\": 79100, \"position\": 79000, \"action\": \"Buy\"}, {\"date\": \"2023-03-31T00:00:00\", \"actual\": 79100, \"position\": 79100, \"action\": \"SELL\"}, {\"date\": \"2023-04-03T00:00:00\", \"actual\": 80900, \"position\": 79100, \"action\": \"HOLD\"}, {\"date\": \"2023-04-04T00:00:00\", \"actual\": 80500, \"position\": 80900, \"action\": \"HOLD\"}, {\"date\": \"2023-04-05T00:00:00\", \"actual\": 80600, \"position\": 80500, \"action\": \"HOLD\"}, {\"date\": \"2023-04-06T00:00:00\", \"actual\": 80300, \"position\": 80600, \"action\": \"HOLD\"}, {\"date\": \"2023-04-07T00:00:00\", \"actual\": 80500, \"position\": 80300, \"action\": \"Buy\"}, {\"date\": \"2023-04-10T00:00:00\", \"actual\": 80300, \"position\": 80500, \"action\": \"SELL\"}, {\"date\": \"2023-04-11T00:00:00\", \"actual\": 80300, \"position\": 80300, \"action\": \"Buy\"}, {\"date\": \"2023-04-12T00:00:00\", \"actual\": 80300, \"position\": 80300, \"action\": \"HOLD\"}, {\"date\": \"2023-04-13T00:00:00\", \"actual\": 79600, \"position\": 80300, \"action\": \"SELL\"}, {\"date\": \"2023-04-14T00:00:00\", \"actual\": 79600, \"position\": 79600, \"action\": \"HOLD\"}, {\"date\": \"2023-04-17T00:00:00\", \"actual\": 79600, \"position\": 79600, \"action\": \"Buy\"}, {\"date\": \"2023-04-18T00:00:00\", \"actual\": 79400, \"position\": 79600, \"action\": \"SELL\"}, {\"date\": \"2023-04-19T00:00:00\", \"actual\": 79300, \"position\": 79400, \"action\": \"HOLD\"}, {\"date\": \"2023-04-20T00:00:00\", \"actual\": 79400, \"position\": 79300, \"action\": \"HOLD\"}, {\"date\": \"2023-04-21T00:00:00\", \"actual\": 79300, \"position\": 79400, \"action\": \"HOLD\"}, {\"date\": \"2023-04-24T00:00:00\", \"actual\": 79100, \"position\": 79300, \"action\": \"Buy\"}, {\"date\": \"2023-04-25T00:00:00\", \"actual\": 78400, \"position\": 79100, \"action\": \"HOLD\"}, {\"date\": \"2023-04-26T00:00:00\", \"actual\": 78300, \"position\": 78400, \"action\": \"HOLD\"}, {\"date\": \"2023-04-27T00:00:00\", \"actual\": 78300, \"position\": 78300, \"action\": \"Buy\"}, {\"date\": \"2023-04-28T00:00:00\", \"actual\": 77500, \"position\": 78300, \"action\": \"HOLD\"}, {\"date\": \"2023-05-04T00:00:00\", \"actual\": 78500, \"position\": 77500, \"action\": \"HOLD\"}, {\"date\": \"2023-05-05T00:00:00\", \"actual\": 78400, \"position\": 78500, \"action\": \"SELL\"}, {\"date\": \"2023-05-08T00:00:00\", \"actual\": 78500, \"position\": 78400, \"action\": \"Buy\"}, {\"date\": \"2023-05-09T00:00:00\", \"actual\": 78900, \"position\": 78500, \"action\": \"HOLD\"}, {\"date\": \"2023-05-10T00:00:00\", \"actual\": 79000, \"position\": 78900, \"action\": \"SELL\"}, {\"date\": \"2023-05-11T00:00:00\", \"actual\": 79100, \"position\": 79000, \"action\": \"HOLD\"}, {\"date\": \"2023-05-12T00:00:00\", \"actual\": 80500, \"position\": 79100, \"action\": \"HOLD\"}, {\"date\": \"2023-05-15T00:00:00\", \"actual\": 81000, \"position\": 80500, \"action\": \"HOLD\"}, {\"date\": \"2023-05-16T00:00:00\", \"actual\": 81500, \"position\": 81000, \"action\": \"HOLD\"}, {\"date\": \"2023-05-17T00:00:00\", \"actual\": 81500, \"position\": 81500, \"action\": \"HOLD\"}, {\"date\": \"2023-05-18T00:00:00\", \"actual\": 82900, \"position\": 81500, \"action\": \"HOLD\"}, {\"date\": \"2023-05-19T00:00:00\", \"actual\": 82800, \"position\": 82900, \"action\": \"HOLD\"}, {\"date\": \"2023-05-22T00:00:00\", \"actual\": 82500, \"position\": 82800, \"action\": \"Buy\"}, {\"date\": \"2023-05-23T00:00:00\", \"actual\": 82000, \"position\": 82500, \"action\": \"HOLD\"}, {\"date\": \"2023-05-24T00:00:00\", \"actual\": 81300, \"position\": 82000, \"action\": \"HOLD\"}, {\"date\": \"2023-05-25T00:00:00\", \"actual\": 83200, \"position\": 81300, \"action\": \"HOLD\"}, {\"date\": \"2023-05-26T00:00:00\", \"actual\": 83100, \"position\": 83200, \"action\": \"HOLD\"}, {\"date\": \"2023-05-29T00:00:00\", \"actual\": 83100, \"position\": 83100, \"action\": \"HOLD\"}, {\"date\": \"2023-05-30T00:00:00\", \"actual\": 84000, \"position\": 83100, \"action\": \"HOLD\"}, {\"date\": \"2023-05-31T00:00:00\", \"actual\": 84100, \"position\": 84000, \"action\": \"SELL\"}, {\"date\": \"2023-06-01T00:00:00\", \"actual\": 83500, \"position\": 84100, \"action\": \"HOLD\"}, {\"date\": \"2023-06-02T00:00:00\", \"actual\": 83800, \"position\": 83500, \"action\": \"HOLD\"}, {\"date\": \"2023-06-05T00:00:00\", \"actual\": 85000, \"position\": 83800, \"action\": \"HOLD\"}, {\"date\": \"2023-06-06T00:00:00\", \"actual\": 85300, \"position\": 85000, \"action\": \"HOLD\"}, {\"date\": \"2023-06-07T00:00:00\", \"actual\": 85000, \"position\": 85300, \"action\": \"HOLD\"}, {\"date\": \"2023-06-08T00:00:00\", \"actual\": 83600, \"position\": 85000, \"action\": \"Buy\"}, {\"date\": \"2023-06-09T00:00:00\", \"actual\": 84600, \"position\": 83600, \"action\": \"HOLD\"}, {\"date\": \"2023-06-12T00:00:00\", \"actual\": 84900, \"position\": 84600, \"action\": \"SELL\"}, {\"date\": \"2023-06-13T00:00:00\", \"actual\": 84400, \"position\": 84900, \"action\": \"HOLD\"}, {\"date\": \"2023-06-14T00:00:00\", \"actual\": 84200, \"position\": 84400, \"action\": \"Buy\"}, {\"date\": \"2023-06-15T00:00:00\", \"actual\": 84100, \"position\": 84200, \"action\": \"Buy\"}, {\"date\": \"2023-06-16T00:00:00\", \"actual\": 84500, \"position\": 84100, \"action\": \"Buy\"}, {\"date\": \"2023-06-19T00:00:00\", \"actual\": 84700, \"position\": 84500, \"action\": \"HOLD\"}, {\"date\": \"2023-06-20T00:00:00\", \"actual\": 85500, \"position\": 84700, \"action\": \"SELL\"}, {\"date\": \"2023-06-21T00:00:00\", \"actual\": 85800, \"position\": 85500, \"action\": \"HOLD\"}, {\"date\": \"2023-06-22T00:00:00\", \"actual\": 85500, \"position\": 85800, \"action\": \"HOLD\"}, {\"date\": \"2023-06-23T00:00:00\", \"actual\": 85100, \"position\": 85500, \"action\": \"Buy\"}, {\"date\": \"2023-06-26T00:00:00\", \"actual\": 85800, \"position\": 85100, \"action\": \"SELL\"}, {\"date\": \"2023-06-27T00:00:00\", \"actual\": 87300, \"position\": 85800, \"action\": \"HOLD\"}, {\"date\": \"2023-06-28T00:00:00\", \"actual\": 87000, \"position\": 87300, \"action\": \"HOLD\"}, {\"date\": \"2023-06-29T00:00:00\", \"actual\": 86500, \"position\": 87000, \"action\": \"Buy\"}, {\"date\": \"2023-06-30T00:00:00\", \"actual\": 86000, \"position\": 86500, \"action\": \"Buy\"}, {\"date\": \"2023-07-03T00:00:00\", \"actual\": 86400, \"position\": 86000, \"action\": \"Buy\"}, {\"date\": \"2023-07-04T00:00:00\", \"actual\": 87000, \"position\": 86400, \"action\": \"HOLD\"}, {\"date\": \"2023-07-05T00:00:00\", \"actual\": 74800, \"position\": 87000, \"action\": \"SELL\"}, {\"date\": \"2023-07-06T00:00:00\", \"actual\": 74600, \"position\": 74800, \"action\": \"HOLD\"}, {\"date\": \"2023-07-07T00:00:00\", \"actual\": 75300, \"position\": 74600, \"action\": \"HOLD\"}, {\"date\": \"2023-07-10T00:00:00\", \"actual\": 75300, \"position\": 75300, \"action\": \"HOLD\"}, {\"date\": \"2023-07-11T00:00:00\", \"actual\": 75000, \"position\": 75300, \"action\": \"HOLD\"}, {\"date\": \"2023-07-12T00:00:00\", \"actual\": 75300, \"position\": 75000, \"action\": \"HOLD\"}, {\"date\": \"2023-07-13T00:00:00\", \"actual\": 75800, \"position\": 75300, \"action\": \"HOLD\"}, {\"date\": \"2023-07-14T00:00:00\", \"actual\": 78300, \"position\": 75800, \"action\": \"HOLD\"}, {\"date\": \"2023-07-17T00:00:00\", \"actual\": 79000, \"position\": 78300, \"action\": \"HOLD\"}, {\"date\": \"2023-07-18T00:00:00\", \"actual\": 78700, \"position\": 79000, \"action\": \"HOLD\"}, {\"date\": \"2023-07-19T00:00:00\", \"actual\": 78500, \"position\": 78700, \"action\": \"Buy\"}, {\"date\": \"2023-07-20T00:00:00\", \"actual\": 80300, \"position\": 78500, \"action\": \"SELL\"}, {\"date\": \"2023-07-21T00:00:00\", \"actual\": 81000, \"position\": 80300, \"action\": \"HOLD\"}, {\"date\": \"2023-07-24T00:00:00\", \"actual\": 81000, \"position\": 81000, \"action\": \"HOLD\"}, {\"date\": \"2023-07-25T00:00:00\", \"actual\": 81300, \"position\": 81000, \"action\": \"HOLD\"}, {\"date\": \"2023-07-26T00:00:00\", \"actual\": 82700, \"position\": 81300, \"action\": \"HOLD\"}, {\"date\": \"2023-07-27T00:00:00\", \"actual\": 83700, \"position\": 82700, \"action\": \"HOLD\"}, {\"date\": \"2023-07-28T00:00:00\", \"actual\": 84400, \"position\": 83700, \"action\": \"HOLD\"}, {\"date\": \"2023-07-31T00:00:00\", \"actual\": 85600, \"position\": 84400, \"action\": \"HOLD\"}, {\"date\": \"2023-08-01T00:00:00\", \"actual\": 84500, \"position\": 85600, \"action\": \"HOLD\"}, {\"date\": \"2023-08-02T00:00:00\", \"actual\": 83500, \"position\": 84500, \"action\": \"HOLD\"}, {\"date\": \"2023-08-03T00:00:00\", \"actual\": 83700, \"position\": 83500, \"action\": \"HOLD\"}, {\"date\": \"2023-08-04T00:00:00\", \"actual\": 83300, \"position\": 83700, \"action\": \"HOLD\"}, {\"date\": \"2023-08-07T00:00:00\", \"actual\": 84500, \"position\": 83300, \"action\": \"Buy\"}, {\"date\": \"2023-08-08T00:00:00\", \"actual\": 84200, \"position\": 84500, \"action\": \"SELL\"}, {\"date\": \"2023-08-09T00:00:00\", \"actual\": 83100, \"position\": 84200, \"action\": \"Buy\"}, {\"date\": \"2023-08-10T00:00:00\", \"actual\": 82200, \"position\": 83100, \"action\": \"HOLD\"}, {\"date\": \"2023-08-11T00:00:00\", \"actual\": 82000, \"position\": 82200, \"action\": \"HOLD\"}, {\"date\": \"2023-08-14T00:00:00\", \"actual\": 82600, \"position\": 82000, \"action\": \"Buy\"}, {\"date\": \"2023-08-15T00:00:00\", \"actual\": 84000, \"position\": 82600, \"action\": \"SELL\"}, {\"date\": \"2023-08-16T00:00:00\", \"actual\": 85100, \"position\": 84000, \"action\": \"HOLD\"}, {\"date\": \"2023-08-17T00:00:00\", \"actual\": 86000, \"position\": 85100, \"action\": \"HOLD\"}, {\"date\": \"2023-08-18T00:00:00\", \"actual\": 85500, \"position\": 86000, \"action\": \"HOLD\"}, {\"date\": \"2023-08-21T00:00:00\", \"actual\": 85900, \"position\": 85500, \"action\": \"Buy\"}, {\"date\": \"2023-08-22T00:00:00\", \"actual\": 86500, \"position\": 85900, \"action\": \"SELL\"}, {\"date\": \"2023-08-23T00:00:00\", \"actual\": 86500, \"position\": 86500, \"action\": \"HOLD\"}, {\"date\": \"2023-08-24T00:00:00\", \"actual\": 90000, \"position\": 86500, \"action\": \"HOLD\"}, {\"date\": \"2023-08-25T00:00:00\", \"actual\": 90600, \"position\": 90000, \"action\": \"HOLD\"}, {\"date\": \"2023-08-28T00:00:00\", \"actual\": 94000, \"position\": 90600, \"action\": \"HOLD\"}, {\"date\": \"2023-08-29T00:00:00\", \"actual\": 93600, \"position\": 94000, \"action\": \"HOLD\"}, {\"date\": \"2023-08-30T00:00:00\", \"actual\": 96600, \"position\": 93600, \"action\": \"HOLD\"}, {\"date\": \"2023-08-31T00:00:00\", \"actual\": 96700, \"position\": 96600, \"action\": \"HOLD\"}, {\"date\": \"2023-09-05T00:00:00\", \"actual\": 96800, \"position\": 96700, \"action\": \"HOLD\"}, {\"date\": \"2023-09-06T00:00:00\", \"actual\": 99000, \"position\": 96800, \"action\": \"HOLD\"}, {\"date\": \"2023-09-07T00:00:00\", \"actual\": 97900, \"position\": 99000, \"action\": \"HOLD\"}, {\"date\": \"2023-09-08T00:00:00\", \"actual\": 97600, \"position\": 97900, \"action\": \"HOLD\"}, {\"date\": \"2023-09-11T00:00:00\", \"actual\": 97400, \"position\": 97600, \"action\": \"HOLD\"}, {\"date\": \"2023-09-12T00:00:00\", \"actual\": 98900, \"position\": 97400, \"action\": \"Buy\"}, {\"date\": \"2023-09-13T00:00:00\", \"actual\": 98000, \"position\": 98900, \"action\": \"SELL\"}, {\"date\": \"2023-09-14T00:00:00\", \"actual\": 95900, \"position\": 98000, \"action\": \"Buy\"}, {\"date\": \"2023-09-15T00:00:00\", \"actual\": 97500, \"position\": 95900, \"action\": \"HOLD\"}, {\"date\": \"2023-09-18T00:00:00\", \"actual\": 96900, \"position\": 97500, \"action\": \"SELL\"}, {\"date\": \"2023-09-19T00:00:00\", \"actual\": 98400, \"position\": 96900, \"action\": \"HOLD\"}, {\"date\": \"2023-09-20T00:00:00\", \"actual\": 98500, \"position\": 98400, \"action\": \"HOLD\"}, {\"date\": \"2023-09-21T00:00:00\", \"actual\": 96800, \"position\": 98500, \"action\": \"HOLD\"}, {\"date\": \"2023-09-22T00:00:00\", \"actual\": 96700, \"position\": 96800, \"action\": \"HOLD\"}, {\"date\": \"2023-09-25T00:00:00\", \"actual\": 94300, \"position\": 96700, \"action\": \"HOLD\"}, {\"date\": \"2023-09-26T00:00:00\", \"actual\": 93500, \"position\": 94300, \"action\": \"Buy\"}, {\"date\": \"2023-09-27T00:00:00\", \"actual\": 94300, \"position\": 93500, \"action\": \"Buy\"}, {\"date\": \"2023-09-28T00:00:00\", \"actual\": 94000, \"position\": 94300, \"action\": \"SELL\"}, {\"date\": \"2023-09-29T00:00:00\", \"actual\": 92800, \"position\": 94000, \"action\": \"Buy\"}, {\"date\": \"2023-10-02T00:00:00\", \"actual\": 93200, \"position\": 92800, \"action\": \"HOLD\"}, {\"date\": \"2023-10-03T00:00:00\", \"actual\": 92200, \"position\": 93200, \"action\": \"SELL\"}, {\"date\": \"2023-10-04T00:00:00\", \"actual\": 92500, \"position\": 92200, \"action\": \"Buy\"}, {\"date\": \"2023-10-05T00:00:00\", \"actual\": 91600, \"position\": 92500, \"action\": \"SELL\"}, {\"date\": \"2023-10-06T00:00:00\", \"actual\": 92700, \"position\": 91600, \"action\": \"Buy\"}, {\"date\": \"2023-10-09T00:00:00\", \"actual\": 95600, \"position\": 92700, \"action\": \"HOLD\"}, {\"date\": \"2023-10-10T00:00:00\", \"actual\": 96300, \"position\": 95600, \"action\": \"SELL\"}, {\"date\": \"2023-10-11T00:00:00\", \"actual\": 97000, \"position\": 96300, \"action\": \"HOLD\"}, {\"date\": \"2023-10-12T00:00:00\", \"actual\": 96400, \"position\": 97000, \"action\": \"HOLD\"}, {\"date\": \"2023-10-13T00:00:00\", \"actual\": 96100, \"position\": 96400, \"action\": \"HOLD\"}, {\"date\": \"2023-10-16T00:00:00\", \"actual\": 96800, \"position\": 96100, \"action\": \"HOLD\"}, {\"date\": \"2023-10-17T00:00:00\", \"actual\": 93100, \"position\": 96800, \"action\": \"HOLD\"}, {\"date\": \"2023-10-18T00:00:00\", \"actual\": 93000, \"position\": 93100, \"action\": \"Buy\"}, {\"date\": \"2023-10-19T00:00:00\", \"actual\": 92000, \"position\": 93000, \"action\": \"HOLD\"}, {\"date\": \"2023-10-20T00:00:00\", \"actual\": 92900, \"position\": 92000, \"action\": \"HOLD\"}, {\"date\": \"2023-10-23T00:00:00\", \"actual\": 91000, \"position\": 92900, \"action\": \"HOLD\"}, {\"date\": \"2023-10-24T00:00:00\", \"actual\": 92000, \"position\": 91000, \"action\": \"HOLD\"}, {\"date\": \"2023-10-25T00:00:00\", \"actual\": 90900, \"position\": 92000, \"action\": \"SELL\"}, {\"date\": \"2023-10-26T00:00:00\", \"actual\": 86800, \"position\": 90900, \"action\": \"Buy\"}, {\"date\": \"2023-10-27T00:00:00\", \"actual\": 87000, \"position\": 86800, \"action\": \"HOLD\"}, {\"date\": \"2023-10-30T00:00:00\", \"actual\": 85000, \"position\": 87000, \"action\": \"SELL\"}, {\"date\": \"2023-10-31T00:00:00\", \"actual\": 83000, \"position\": 85000, \"action\": \"Buy\"}, {\"date\": \"2023-11-01T00:00:00\", \"actual\": 85400, \"position\": 83000, \"action\": \"HOLD\"}, {\"date\": \"2023-11-02T00:00:00\", \"actual\": 89000, \"position\": 85400, \"action\": \"SELL\"}, {\"date\": \"2023-11-03T00:00:00\", \"actual\": 87000, \"position\": 89000, \"action\": \"HOLD\"}, {\"date\": \"2023-11-06T00:00:00\", \"actual\": 88500, \"position\": 87000, \"action\": \"Buy\"}, {\"date\": \"2023-11-07T00:00:00\", \"actual\": 88300, \"position\": 88500, \"action\": \"SELL\"}, {\"date\": \"2023-11-08T00:00:00\", \"actual\": 92600, \"position\": 88300, \"action\": \"Buy\"}, {\"date\": \"2023-11-09T00:00:00\", \"actual\": 92500, \"position\": 92600, \"action\": \"SELL\"}, {\"date\": \"2023-11-10T00:00:00\", \"actual\": 91500, \"position\": 92500, \"action\": \"HOLD\"}, {\"date\": \"2023-11-13T00:00:00\", \"actual\": 91400, \"position\": 91500, \"action\": \"Buy\"}, {\"date\": \"2023-11-14T00:00:00\", \"actual\": 92600, \"position\": 91400, \"action\": \"HOLD\"}, {\"date\": \"2023-11-15T00:00:00\", \"actual\": 92400, \"position\": 92600, \"action\": \"HOLD\"}, {\"date\": \"2023-11-16T00:00:00\", \"actual\": 93000, \"position\": 92400, \"action\": \"HOLD\"}, {\"date\": \"2023-11-17T00:00:00\", \"actual\": 91000, \"position\": 93000, \"action\": \"SELL\"}, {\"date\": \"2023-11-20T00:00:00\", \"actual\": 90700, \"position\": 91000, \"action\": \"Buy\"}, {\"date\": \"2023-11-21T00:00:00\", \"actual\": 91900, \"position\": 90700, \"action\": \"HOLD\"}, {\"date\": \"2023-11-22T00:00:00\", \"actual\": 93000, \"position\": 91900, \"action\": \"SELL\"}, {\"date\": \"2023-11-23T00:00:00\", \"actual\": 90800, \"position\": 93000, \"action\": \"HOLD\"}, {\"date\": \"2023-11-24T00:00:00\", \"actual\": 91200, \"position\": 90800, \"action\": \"Buy\"}, {\"date\": \"2023-11-27T00:00:00\", \"actual\": 90700, \"position\": 91200, \"action\": \"SELL\"}, {\"date\": \"2023-11-28T00:00:00\", \"actual\": 91100, \"position\": 90700, \"action\": \"Buy\"}, {\"date\": \"2023-11-29T00:00:00\", \"actual\": 91700, \"position\": 91100, \"action\": \"SELL\"}, {\"date\": \"2023-11-30T00:00:00\", \"actual\": 91900, \"position\": 91700, \"action\": \"HOLD\"}, {\"date\": \"2023-12-01T00:00:00\", \"actual\": 92400, \"position\": 91900, \"action\": \"HOLD\"}, {\"date\": \"2023-12-04T00:00:00\", \"actual\": 93600, \"position\": 92400, \"action\": \"Buy\"}, {\"date\": \"2023-12-05T00:00:00\", \"actual\": 94800, \"position\": 93600, \"action\": \"SELL\"}, {\"date\": \"2023-12-06T00:00:00\", \"actual\": 95000, \"position\": 94800, \"action\": \"HOLD\"}, {\"date\": \"2023-12-07T00:00:00\", \"actual\": 94300, \"position\": 95000, \"action\": \"HOLD\"}, {\"date\": \"2023-12-08T00:00:00\", \"actual\": 94200, \"position\": 94300, \"action\": \"HOLD\"}, {\"date\": \"2023-12-11T00:00:00\", \"actual\": 95000, \"position\": 94200, \"action\": \"HOLD\"}, {\"date\": \"2023-12-12T00:00:00\", \"actual\": 96800, \"position\": 95000, \"action\": \"HOLD\"}, {\"date\": \"2023-12-13T00:00:00\", \"actual\": 95200, \"position\": 96800, \"action\": \"HOLD\"}, {\"date\": \"2023-12-14T00:00:00\", \"actual\": 96200, \"position\": 95200, \"action\": \"Buy\"}, {\"date\": \"2023-12-15T00:00:00\", \"actual\": 96200, \"position\": 96200, \"action\": \"SELL\"}, {\"date\": \"2023-12-18T00:00:00\", \"actual\": 94000, \"position\": 96200, \"action\": \"HOLD\"}, {\"date\": \"2023-12-19T00:00:00\", \"actual\": 94600, \"position\": 94000, \"action\": \"HOLD\"}, {\"date\": \"2023-12-20T00:00:00\", \"actual\": 94700, \"position\": 94600, \"action\": \"HOLD\"}, {\"date\": \"2023-12-21T00:00:00\", \"actual\": 95100, \"position\": 94700, \"action\": \"HOLD\"}, {\"date\": \"2023-12-22T00:00:00\", \"actual\": 94600, \"position\": 95100, \"action\": \"HOLD\"}, {\"date\": \"2023-12-25T00:00:00\", \"actual\": 96000, \"position\": 94600, \"action\": \"HOLD\"}, {\"date\": \"2023-12-26T00:00:00\", \"actual\": 97200, \"position\": 96000, \"action\": \"HOLD\"}, {\"date\": \"2023-12-27T00:00:00\", \"actual\": 96900, \"position\": 97200, \"action\": \"HOLD\"}, {\"date\": \"2023-12-28T00:00:00\", \"actual\": 96600, \"position\": 96900, \"action\": \"HOLD\"}, {\"date\": \"2023-12-29T00:00:00\", \"actual\": 96100, \"position\": 96600, \"action\": \"HOLD\"}, {\"date\": \"2024-01-02T00:00:00\", \"actual\": 95900, \"position\": 96100, \"action\": \"Buy\"}, {\"date\": \"2024-01-03T00:00:00\", \"actual\": 96300, \"position\": 95900, \"action\": \"Buy\"}, {\"date\": \"2024-01-04T00:00:00\", \"actual\": 97200, \"position\": 96300, \"action\": \"SELL\"}, {\"date\": \"2024-01-05T00:00:00\", \"actual\": 97400, \"position\": 97200, \"action\": \"HOLD\"}, {\"date\": \"2024-01-08T00:00:00\", \"actual\": 97300, \"position\": 97400, \"action\": \"HOLD\"}, {\"date\": \"2024-01-09T00:00:00\", \"actual\": 96600, \"position\": 97300, \"action\": \"HOLD\"}, {\"date\": \"2024-01-10T00:00:00\", \"actual\": 94700, \"position\": 96600, \"action\": \"HOLD\"}, {\"date\": \"2024-01-11T00:00:00\", \"actual\": 95000, \"position\": 94700, \"action\": \"HOLD\"}, {\"date\": \"2024-01-12T00:00:00\", \"actual\": 94700, \"position\": 95000, \"action\": \"HOLD\"}, {\"date\": \"2024-01-15T00:00:00\", \"actual\": 95400, \"position\": 94700, \"action\": \"Buy\"}, {\"date\": \"2024-01-16T00:00:00\", \"actual\": 95700, \"position\": 95400, \"action\": \"SELL\"}, {\"date\": \"2024-01-17T00:00:00\", \"actual\": 95700, \"position\": 95700, \"action\": \"HOLD\"}, {\"date\": \"2024-01-18T00:00:00\", \"actual\": 95600, \"position\": 95700, \"action\": \"HOLD\"}, {\"date\": \"2024-01-19T00:00:00\", \"actual\": 96300, \"position\": 95600, \"action\": \"HOLD\"}, {\"date\": \"2024-01-22T00:00:00\", \"actual\": 96400, \"position\": 96300, \"action\": \"HOLD\"}, {\"date\": \"2024-01-23T00:00:00\", \"actual\": 95600, \"position\": 96400, \"action\": \"HOLD\"}, {\"date\": \"2024-01-24T00:00:00\", \"actual\": 95000, \"position\": 95600, \"action\": \"HOLD\"}, {\"date\": \"2024-01-25T00:00:00\", \"actual\": 95100, \"position\": 95000, \"action\": \"HOLD\"}, {\"date\": \"2024-01-26T00:00:00\", \"actual\": 95900, \"position\": 95100, \"action\": \"HOLD\"}, {\"date\": \"2024-01-29T00:00:00\", \"actual\": 95900, \"position\": 95900, \"action\": \"HOLD\"}, {\"date\": \"2024-01-30T00:00:00\", \"actual\": 95600, \"position\": 95900, \"action\": \"Buy\"}, {\"date\": \"2024-01-31T00:00:00\", \"actual\": 95700, \"position\": 95600, \"action\": \"Buy\"}, {\"date\": \"2024-02-01T00:00:00\", \"actual\": 99900, \"position\": 95700, \"action\": \"SELL\"}, {\"date\": \"2024-02-02T00:00:00\", \"actual\": 102000, \"position\": 99900, \"action\": \"HOLD\"}, {\"date\": \"2024-02-05T00:00:00\", \"actual\": 103500, \"position\": 102000, \"action\": \"HOLD\"}, {\"date\": \"2024-02-06T00:00:00\", \"actual\": 104100, \"position\": 103500, \"action\": \"HOLD\"}, {\"date\": \"2024-02-07T00:00:00\", \"actual\": 104900, \"position\": 104100, \"action\": \"HOLD\"}, {\"date\": \"2024-02-15T00:00:00\", \"actual\": 104000, \"position\": 104900, \"action\": \"HOLD\"}, {\"date\": \"2024-02-16T00:00:00\", \"actual\": 105100, \"position\": 104000, \"action\": \"HOLD\"}, {\"date\": \"2024-02-19T00:00:00\", \"actual\": 105000, \"position\": 105100, \"action\": \"HOLD\"}, {\"date\": \"2024-02-20T00:00:00\", \"actual\": 104300, \"position\": 105000, \"action\": \"Buy\"}, {\"date\": \"2024-02-21T00:00:00\", \"actual\": 105900, \"position\": 104300, \"action\": \"HOLD\"}, {\"date\": \"2024-02-22T00:00:00\", \"actual\": 104600, \"position\": 105900, \"action\": \"SELL\"}, {\"date\": \"2024-02-23T00:00:00\", \"actual\": 103900, \"position\": 104600, \"action\": \"Buy\"}, {\"date\": \"2024-02-26T00:00:00\", \"actual\": 108000, \"position\": 103900, \"action\": \"HOLD\"}, {\"date\": \"2024-02-27T00:00:00\", \"actual\": 107900, \"position\": 108000, \"action\": \"SELL\"}, {\"date\": \"2024-02-28T00:00:00\", \"actual\": 108500, \"position\": 107900, \"action\": \"HOLD\"}, {\"date\": \"2024-02-29T00:00:00\", \"actual\": 109000, \"position\": 108500, \"action\": \"HOLD\"}, {\"date\": \"2024-03-01T00:00:00\", \"actual\": 110800, \"position\": 109000, \"action\": \"HOLD\"}, {\"date\": \"2024-03-04T00:00:00\", \"actual\": 111400, \"position\": 110800, \"action\": \"HOLD\"}, {\"date\": \"2024-03-05T00:00:00\", \"actual\": 110700, \"position\": 111400, \"action\": \"HOLD\"}, {\"date\": \"2024-03-06T00:00:00\", \"actual\": 109000, \"position\": 110700, \"action\": \"HOLD\"}, {\"date\": \"2024-03-07T00:00:00\", \"actual\": 111300, \"position\": 109000, \"action\": \"HOLD\"}, {\"date\": \"2024-03-08T00:00:00\", \"actual\": 110000, \"position\": 111300, \"action\": \"HOLD\"}, {\"date\": \"2024-03-11T00:00:00\", \"actual\": 110000, \"position\": 110000, \"action\": \"Buy\"}, {\"date\": \"2024-03-12T00:00:00\", \"actual\": 111900, \"position\": 110000, \"action\": \"SELL\"}, {\"date\": \"2024-03-13T00:00:00\", \"actual\": 117000, \"position\": 111900, \"action\": \"HOLD\"}, {\"date\": \"2024-03-14T00:00:00\", \"actual\": 117000, \"position\": 117000, \"action\": \"Buy\"}, {\"date\": \"2024-03-15T00:00:00\", \"actual\": 116000, \"position\": 117000, \"action\": \"HOLD\"}]}}, {\"mode\": \"vega-lite\"});\n</script>",
      "text/plain": "alt.LayerChart(...)"
     },
     "execution_count": 55,
     "metadata": {},
     "output_type": "execute_result"
    }
   ],
   "source": [
    "chart = visualize(df, history, title=test_stock)\n",
    "chart"
   ],
   "metadata": {
    "collapsed": false,
    "ExecuteTime": {
     "end_time": "2024-04-12T10:03:39.174257Z",
     "start_time": "2024-04-12T10:03:39.097860Z"
    }
   },
   "execution_count": 55
  },
  {
   "cell_type": "code",
   "outputs": [
    {
     "data": {
      "text/plain": "        date  actual  position action\n0 2023-01-03   80000     80000   HOLD\n1 2023-01-04   80000     80000    Buy\n2 2023-01-05   80600     80000   SELL\n3 2023-01-06   80300     80600   HOLD\n4 2023-01-09   80300     80300    Buy",
      "text/html": "<div>\n<style scoped>\n    .dataframe tbody tr th:only-of-type {\n        vertical-align: middle;\n    }\n\n    .dataframe tbody tr th {\n        vertical-align: top;\n    }\n\n    .dataframe thead th {\n        text-align: right;\n    }\n</style>\n<table border=\"1\" class=\"dataframe\">\n  <thead>\n    <tr style=\"text-align: right;\">\n      <th></th>\n      <th>date</th>\n      <th>actual</th>\n      <th>position</th>\n      <th>action</th>\n    </tr>\n  </thead>\n  <tbody>\n    <tr>\n      <th>0</th>\n      <td>2023-01-03</td>\n      <td>80000</td>\n      <td>80000</td>\n      <td>HOLD</td>\n    </tr>\n    <tr>\n      <th>1</th>\n      <td>2023-01-04</td>\n      <td>80000</td>\n      <td>80000</td>\n      <td>Buy</td>\n    </tr>\n    <tr>\n      <th>2</th>\n      <td>2023-01-05</td>\n      <td>80600</td>\n      <td>80000</td>\n      <td>SELL</td>\n    </tr>\n    <tr>\n      <th>3</th>\n      <td>2023-01-06</td>\n      <td>80300</td>\n      <td>80600</td>\n      <td>HOLD</td>\n    </tr>\n    <tr>\n      <th>4</th>\n      <td>2023-01-09</td>\n      <td>80300</td>\n      <td>80300</td>\n      <td>Buy</td>\n    </tr>\n  </tbody>\n</table>\n</div>"
     },
     "execution_count": 57,
     "metadata": {},
     "output_type": "execute_result"
    }
   ],
   "source": [
    "df.head()"
   ],
   "metadata": {
    "collapsed": false,
    "ExecuteTime": {
     "end_time": "2024-04-12T10:03:53.491680Z",
     "start_time": "2024-04-12T10:03:53.468612Z"
    }
   },
   "execution_count": 57
  },
  {
   "cell_type": "code",
   "outputs": [],
   "source": [
    "import pandas as pd\n",
    "import os\n",
    "\n",
    "# Đường dẫn đến thư mục\n",
    "directory = r'D:\\Test1\\trading-bot-master\\extra'\n",
    "\n",
    "# Đảm bảo rằng đường dẫn tồn tại\n",
    "if not os.path.exists(directory):\n",
    "    os.makedirs(directory)\n",
    "\n",
    "# Lưu DataFrame thành file CSV\n",
    "df.to_csv(os.path.join(directory, f'{model_name}_result.csv'), index=False)\n"
   ],
   "metadata": {
    "collapsed": false,
    "ExecuteTime": {
     "end_time": "2024-04-12T10:03:58.596061Z",
     "start_time": "2024-04-12T10:03:58.567980Z"
    }
   },
   "execution_count": 58
  }
 ],
 "metadata": {
  "kernelspec": {
   "display_name": "Python 3",
   "language": "python",
   "name": "python3"
  },
  "language_info": {
   "codemirror_mode": {
    "name": "ipython",
    "version": 3
   },
   "file_extension": ".py",
   "mimetype": "text/x-python",
   "name": "python",
   "nbconvert_exporter": "python",
   "pygments_lexer": "ipython3",
   "version": "3.6.8"
  }
 },
 "nbformat": 4,
 "nbformat_minor": 4
}
